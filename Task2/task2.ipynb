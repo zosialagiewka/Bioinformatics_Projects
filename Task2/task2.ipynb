{
 "cells": [
  {
   "cell_type": "markdown",
   "source": [
    "# Project 2: Enhancer Classification Problem"
   ],
   "metadata": {
    "collapsed": false
   },
   "id": "aa0decf38dcbdbda"
  },
  {
   "cell_type": "code",
   "execution_count": 2,
   "outputs": [],
   "source": [
    "import gzip\n",
    "from Bio import SeqIO\n",
    "from Bio.Seq import Seq\n",
    "from collections import defaultdict\n",
    "import random\n",
    "from sklearn.metrics import roc_auc_score\n",
    "import itertools\n",
    "from sklearn.metrics import accuracy_score, precision_score, recall_score, f1_score\n",
    "import pandas as pd\n",
    "from sklearn.model_selection import GridSearchCV\n",
    "from sklearn.linear_model import LogisticRegression\n",
    "from sklearn.ensemble import RandomForestClassifier\n",
    "import xgboost as xgb\n",
    "from sklearn.metrics import confusion_matrix"
   ],
   "metadata": {
    "collapsed": false,
    "ExecuteTime": {
     "end_time": "2024-12-04T13:39:23.623686Z",
     "start_time": "2024-12-04T13:39:01.903858Z"
    }
   },
   "id": "e1275680b7ded52f"
  },
  {
   "cell_type": "markdown",
   "source": [
    "### Loading the data"
   ],
   "metadata": {
    "collapsed": false
   },
   "id": "72e19cb21b80fd73"
  },
  {
   "cell_type": "code",
   "execution_count": 3,
   "outputs": [],
   "source": [
    "def load_fasta(file_path):\n",
    "    sequences = []\n",
    "    with open(file_path, \"r\") as fasta_file:\n",
    "        for record in SeqIO.parse(fasta_file, \"fasta\"):\n",
    "            sequences.append({\"id\": record.id, \"sequence\": str(record.seq).upper()})\n",
    "    return pd.DataFrame(sequences)"
   ],
   "metadata": {
    "collapsed": false,
    "ExecuteTime": {
     "end_time": "2024-12-04T13:39:23.640385Z",
     "start_time": "2024-12-04T13:39:23.627236Z"
    }
   },
   "id": "f6c205a7a49a38cf"
  },
  {
   "cell_type": "code",
   "execution_count": 4,
   "outputs": [],
   "source": [
    "def load_tsv(file_path):\n",
    "    with gzip.open(file_path, \"rt\") as f:\n",
    "        df_ = pd.read_csv(f, sep=\"\\t\")\n",
    "    return df_"
   ],
   "metadata": {
    "collapsed": false,
    "ExecuteTime": {
     "end_time": "2024-12-04T13:39:23.640795Z",
     "start_time": "2024-12-04T13:39:23.634441Z"
    }
   },
   "id": "e9d4163d5a7c2bd1"
  },
  {
   "cell_type": "code",
   "execution_count": 5,
   "outputs": [],
   "source": [
    "genomes = load_fasta(\"data/GRCh38.p14.genome.fa\")\n",
    "experiments = load_tsv(\"data/experiments.tsv.gz\")"
   ],
   "metadata": {
    "collapsed": false,
    "ExecuteTime": {
     "end_time": "2024-12-04T13:39:48.103330Z",
     "start_time": "2024-12-04T13:39:23.639310Z"
    }
   },
   "id": "d592df5278b9c7f1"
  },
  {
   "cell_type": "code",
   "execution_count": 6,
   "outputs": [
    {
     "name": "stdout",
     "output_type": "stream",
     "text": [
      "             id                                           sequence\n",
      "701  KI270753.1  GAACACCTAAACGCCCTAAATTCTTTCTTTACTCCATTCTGCTCCT...\n",
      "702  KI270754.1  GCATAGTCAAGTTTGCAAACCACTGCTCTCGAGTTTTAATTGACAT...\n",
      "703  KI270755.1  TTAAACGGTTGTTTCACTGCGGGGAAAAGAGTATCCCAAGCTCCTC...\n",
      "704  KI270756.1  ACGATCTCACTGTGTCACCCAGGTTGGAGTGCGGTGCACAATCTGA...\n",
      "705  KI270757.1  GTTTTTGAACTGCTAAATAAAAAGAAAGGTTCATCTCTGTGAGACG...\n"
     ]
    }
   ],
   "source": [
    "print(genomes.tail())"
   ],
   "metadata": {
    "collapsed": false,
    "ExecuteTime": {
     "end_time": "2024-12-04T13:39:48.119491Z",
     "start_time": "2024-12-04T13:39:48.104425Z"
    }
   },
   "id": "3c715eb51fa2ecb"
  },
  {
   "cell_type": "code",
   "execution_count": 7,
   "outputs": [
    {
     "name": "stdout",
     "output_type": "stream",
     "text": [
      "       exp_hier vista_id  allele_id backbone  stage curation_status  \\\n",
      "0  03vn00010001      hs1          0      hZR  e11.5        positive   \n",
      "1  03v300010001      hs2          0      hZR  e11.5        negative   \n",
      "2  000100010001      hs3          0      hZR  e11.5        negative   \n",
      "3  000200010001      hs4          0      hZR  e11.5        positive   \n",
      "4  03ya00010001      hs5          0      hZR  e11.5        negative   \n",
      "\n",
      "  description  denominator       tissue tissue_positive  ...  \\\n",
      "0   reference         15.0  lb;hb;nt;cn       3;12;12;8  ...   \n",
      "1   reference          NaN          NaN             NaN  ...   \n",
      "2   reference          NaN          NaN             NaN  ...   \n",
      "3   reference         10.0     mb;hb;nt         10;10;6  ...   \n",
      "4   reference          NaN          NaN             NaN  ...   \n",
      "\n",
      "                     coord strand          coordinate_hg38  \\\n",
      "0  chr16:86396481-86397120      +  chr16:86396481-86397120   \n",
      "1  chr16:85586489-85588130      +  chr16:85586489-85588130   \n",
      "2  chr16:80389446-80390755      +  chr16:80389446-80390755   \n",
      "3  chr16:80338700-80339858      +  chr16:80338700-80339858   \n",
      "4  chr16:79936010-79937400      +  chr16:79936010-79937400   \n",
      "\n",
      "            coordinate_mm10       bracket_hg38          bracket_mm10  \\\n",
      "0  chr8:121002895-121003512         IRF8-FOXF1  Gm20388 (intragenic)   \n",
      "1  chr8:120516455-120517853  GSE1 (intragenic)  Gm20388 (intragenic)   \n",
      "2  chr8:116384137-116385431        MAF-DYNLRB2           Maf-Dynlrb2   \n",
      "3  chr8:116335161-116337629        MAF-DYNLRB2           Maf-Dynlrb2   \n",
      "4  chr8:116013572-116015153        MAF-DYNLRB2           Maf-Dynlrb2   \n",
      "\n",
      "                                            seq_hg38  \\\n",
      "0  AACTGAAGGGACCCCGTTAGCATATAAACAAAAGGTGGGGGGTAGC...   \n",
      "1  GGCCCTGGTATGTTTGTTCTTCCAGGGGCTCCCAGGATGGATCCAG...   \n",
      "2  AAGATTGCCATTTGGGGTGTTTCTTGGGGCTAAGAACCATGAAGAC...   \n",
      "3  CAGAGACAGACAGTGACAGAGACAGATTTTAGAATTTGAACAAAGG...   \n",
      "4  TGACACCCACTATTATCCAGTCCTTGATAAACCTCTTTATTTGTTC...   \n",
      "\n",
      "                                            seq_mm10  \\\n",
      "0  AGTTGAGCGACCCTGTTAACGTATAAACAAAAGGTGGGGGGTAACC...   \n",
      "1  ATATTGGCTCCTACAGGGGCTCCAGGATCATTCCCTGCCCTCCTGG...   \n",
      "2  GAGATTGCCATTTGGGGTGTGTCTTGGGGGCTAAGTGCCATGAAGA...   \n",
      "3  catgtgtgtatgtgtgcatatgtgtgtgtgtgCTGGCGCACATTGA...   \n",
      "4  TGTCTCCTACAGCTATAGTTCTTCAGTTATTGACAGAACAGACCCT...   \n",
      "\n",
      "                                                 seq external_note  \n",
      "0  AACTGAAGGGACCCCGTTAGCATATAAACAAAAGGTGGGGGGTAGC...           NaN  \n",
      "1  GGCCCTGGTATGTTTGTTCTTCCAGGGGCTCCCAGGATGGATCCAG...           NaN  \n",
      "2  AAGATTGCCATTTGGGGTGTTTCTTGGGGCTAAGAACCATGAAGAC...           NaN  \n",
      "3  CAGAGACAGACAGTGACAGAGACAGATTTTAGAATTTGAACAAAGG...           NaN  \n",
      "4  TGACACCCACTATTATCCAGTCCTTGATAAACCTCTTTATTTGTTC...           NaN  \n",
      "\n",
      "[5 rows x 22 columns]\n"
     ]
    }
   ],
   "source": [
    "print(experiments.head())"
   ],
   "metadata": {
    "collapsed": false,
    "ExecuteTime": {
     "end_time": "2024-12-04T13:39:48.182797Z",
     "start_time": "2024-12-04T13:39:48.126533Z"
    }
   },
   "id": "8c8ef92aca154cfd"
  },
  {
   "cell_type": "markdown",
   "source": [
    "### Counting k-mers"
   ],
   "metadata": {
    "collapsed": false
   },
   "id": "a8c095eabfa4f421"
  },
  {
   "cell_type": "code",
   "execution_count": 8,
   "outputs": [],
   "source": [
    "def count_kmers_for_sequences(sequences, k_):\n",
    "    bases = ['A', 'T', 'C', 'G']\n",
    "    all_kmers = {\"\".join(p) for p in itertools.product(bases, repeat=k_)}\n",
    "    all_kmers = {min(kmer, str(Seq(kmer).reverse_complement())) for kmer in all_kmers}\n",
    "    \n",
    "    feature_vectors = []\n",
    "    for sequence in sequences:\n",
    "        sequence = sequence.upper()\n",
    "        kmer_counts = defaultdict(int)\n",
    "        n = len(sequence)\n",
    "        for i in range(n - k_ + 1):\n",
    "            kmer = sequence[i:i + k_]\n",
    "            reverse = str(Seq(kmer).reverse_complement())\n",
    "            kmer_counts[min(kmer, reverse)] += 1\n",
    "\n",
    "        feature_vector = {kmer: kmer_counts[kmer] / n for kmer in all_kmers}\n",
    "        feature_vectors.append(feature_vector)\n",
    "    \n",
    "    return pd.DataFrame(feature_vectors).fillna(0)"
   ],
   "metadata": {
    "collapsed": false,
    "ExecuteTime": {
     "end_time": "2024-12-04T13:39:48.183714Z",
     "start_time": "2024-12-04T13:39:48.135008Z"
    }
   },
   "id": "472594efa0e7f045"
  },
  {
   "cell_type": "code",
   "execution_count": 9,
   "outputs": [
    {
     "data": {
      "text/plain": "        ATC       TCA       ATG  ACA  AAT  CAC  ACC  AAG  AAC  ACG  ...  CCC  \\\n0  0.333333  0.166667  0.166667  0.0  0.0  0.0  0.0  0.0  0.0  0.0  ...  0.0   \n\n   ACT  AAA  CCG  GGA  GCC  CGC  GTA  AGA  CCA  \n0  0.0  0.0  0.0  0.0  0.0  0.0  0.0  0.0  0.0  \n\n[1 rows x 32 columns]",
      "text/html": "<div>\n<style scoped>\n    .dataframe tbody tr th:only-of-type {\n        vertical-align: middle;\n    }\n\n    .dataframe tbody tr th {\n        vertical-align: top;\n    }\n\n    .dataframe thead th {\n        text-align: right;\n    }\n</style>\n<table border=\"1\" class=\"dataframe\">\n  <thead>\n    <tr style=\"text-align: right;\">\n      <th></th>\n      <th>ATC</th>\n      <th>TCA</th>\n      <th>ATG</th>\n      <th>ACA</th>\n      <th>AAT</th>\n      <th>CAC</th>\n      <th>ACC</th>\n      <th>AAG</th>\n      <th>AAC</th>\n      <th>ACG</th>\n      <th>...</th>\n      <th>CCC</th>\n      <th>ACT</th>\n      <th>AAA</th>\n      <th>CCG</th>\n      <th>GGA</th>\n      <th>GCC</th>\n      <th>CGC</th>\n      <th>GTA</th>\n      <th>AGA</th>\n      <th>CCA</th>\n    </tr>\n  </thead>\n  <tbody>\n    <tr>\n      <th>0</th>\n      <td>0.333333</td>\n      <td>0.166667</td>\n      <td>0.166667</td>\n      <td>0.0</td>\n      <td>0.0</td>\n      <td>0.0</td>\n      <td>0.0</td>\n      <td>0.0</td>\n      <td>0.0</td>\n      <td>0.0</td>\n      <td>...</td>\n      <td>0.0</td>\n      <td>0.0</td>\n      <td>0.0</td>\n      <td>0.0</td>\n      <td>0.0</td>\n      <td>0.0</td>\n      <td>0.0</td>\n      <td>0.0</td>\n      <td>0.0</td>\n      <td>0.0</td>\n    </tr>\n  </tbody>\n</table>\n<p>1 rows × 32 columns</p>\n</div>"
     },
     "execution_count": 9,
     "metadata": {},
     "output_type": "execute_result"
    }
   ],
   "source": [
    "test_sequences = [\"ATCATC\"]\n",
    "\n",
    "kmer_features = count_kmers_for_sequences(test_sequences, 3)\n",
    "sorted_kmer_features = kmer_features[sorted(kmer_features.columns, key=lambda x: -kmer_features[x].sum())]\n",
    "sorted_kmer_features"
   ],
   "metadata": {
    "collapsed": false,
    "ExecuteTime": {
     "end_time": "2024-12-04T13:39:48.208808Z",
     "start_time": "2024-12-04T13:39:48.153118Z"
    }
   },
   "id": "8ff03e92bc5de35b"
  },
  {
   "cell_type": "markdown",
   "source": [
    "### Preparing data"
   ],
   "metadata": {
    "collapsed": false
   },
   "id": "a100d5cdad703955"
  },
  {
   "cell_type": "code",
   "execution_count": 10,
   "outputs": [],
   "source": [
    "def extract_sequences(data,):\n",
    "    positive_ = data[data['curation_status'] == 'positive']    \n",
    "    negative_ = data[data['curation_status'] == 'negative']\n",
    "    \n",
    "    positive_ = positive_['seq_hg38'].dropna().apply(str).tolist()\n",
    "    negative_ = negative_['seq_hg38'].dropna().apply(str).tolist()\n",
    "    \n",
    "    return positive_, negative_"
   ],
   "metadata": {
    "collapsed": false,
    "ExecuteTime": {
     "end_time": "2024-12-04T13:39:48.209562Z",
     "start_time": "2024-12-04T13:39:48.172056Z"
    }
   },
   "id": "47546e9db57e7195"
  },
  {
   "cell_type": "code",
   "execution_count": 14,
   "outputs": [],
   "source": [
    "def generate_random_negative_sequences(genome_df, positive_sequences, num_sequences):\n",
    "    random_negatives = []\n",
    "    genome_seq = \"\".join(genome_df[\"sequence\"].tolist())\n",
    "    print(\"aa\")\n",
    "    print(genome_seq)\n",
    "    positive_lengths = [len(seq) for seq in positive_sequences]\n",
    "\n",
    "    while len(random_negatives) < num_sequences:\n",
    "        seq_length = random.choice(positive_lengths) \n",
    "        start = random.randint(0, len(genome_seq) - seq_length)\n",
    "        seq = genome_seq[start:start + seq_length]\n",
    "        if 'N' not in seq and seq not in positive_sequences and seq not in random_negatives:\n",
    "            random_negatives.append(seq)\n",
    "    return random_negatives"
   ],
   "metadata": {
    "collapsed": false
   },
   "id": "126899708c552caf"
  },
  {
   "cell_type": "code",
   "execution_count": 15,
   "outputs": [],
   "source": [
    "positive, negative = extract_sequences(experiments)"
   ],
   "metadata": {
    "collapsed": false
   },
   "id": "f53ecbbdfc67bceb"
  },
  {
   "cell_type": "code",
   "execution_count": 16,
   "outputs": [],
   "source": [
    "random_negative = generate_random_negative_sequences(genomes, positive, len(positive))"
   ],
   "metadata": {
    "collapsed": false
   },
   "id": "107025ea7b550b1d"
  },
  {
   "cell_type": "code",
   "execution_count": 35,
   "outputs": [
    {
     "name": "stdout",
     "output_type": "stream",
     "text": [
      "Positive:  2267\n",
      "Negative:  1913\n",
      "Difference:  354\n",
      "Random negative:  2267\n"
     ]
    }
   ],
   "source": [
    "print(\"Positive: \", len(positive))\n",
    "print(\"Negative: \", len(negative))\n",
    "print(\"Random negative: \", len(random_negative))"
   ],
   "metadata": {
    "collapsed": false,
    "ExecuteTime": {
     "end_time": "2024-12-02T15:43:06.085678Z",
     "start_time": "2024-12-02T15:43:06.073107Z"
    }
   },
   "id": "bfa9a4313cadb7c2"
  },
  {
   "cell_type": "code",
   "execution_count": 36,
   "outputs": [],
   "source": [
    "def split_train_test(positive_, negative_, n=400):\n",
    "    positive_df = pd.DataFrame({'sequence': positive_, 'label': 1})\n",
    "    negative_df = pd.DataFrame({'sequence': negative_, 'label': 0})\n",
    "    \n",
    "    test_positives = positive_df.iloc[-n:]\n",
    "    test_negatives = negative_df.iloc[-n:]\n",
    "    test_set = pd.concat([test_positives, test_negatives]).sample(frac=1)\n",
    "\n",
    "    train_positives = positive_df.iloc[:-n]\n",
    "    train_negatives = negative_df.iloc[:-n]\n",
    "    train_set = pd.concat([train_positives, train_negatives]).sample(frac=1)\n",
    "    \n",
    "    return train_set, test_set"
   ],
   "metadata": {
    "collapsed": false,
    "ExecuteTime": {
     "end_time": "2024-12-02T15:43:06.086093Z",
     "start_time": "2024-12-02T15:43:06.081632Z"
    }
   },
   "id": "ba11dd858ce7e838"
  },
  {
   "cell_type": "markdown",
   "source": [
    "### Traing the model"
   ],
   "metadata": {
    "collapsed": false
   },
   "id": "6e8ec42505bb525d"
  },
  {
   "cell_type": "code",
   "execution_count": 37,
   "outputs": [],
   "source": [
    "def evaluate_metrics(y_pred_, y_prob_, y_test):\n",
    "    accuracy_ = accuracy_score(y_test, y_pred_)\n",
    "    precision_ = precision_score(y_test, y_pred_)\n",
    "    recall_ = recall_score(y_test, y_pred_)\n",
    "    f1_ = f1_score(y_test, y_pred_)\n",
    "    auc_score_ = roc_auc_score(y_test, y_prob_)\n",
    "    cm_ = confusion_matrix(y_test, y_pred_)\n",
    "    return accuracy_, precision_, recall_, f1_, auc_score_, cm_"
   ],
   "metadata": {
    "collapsed": false,
    "ExecuteTime": {
     "end_time": "2024-12-02T15:43:06.136520Z",
     "start_time": "2024-12-02T15:43:06.092009Z"
    }
   },
   "id": "f28f46095e22be15"
  },
  {
   "cell_type": "code",
   "execution_count": 38,
   "outputs": [],
   "source": [
    "def grid_search_cross_validation(model_name_, X, y, models_, params_):\n",
    "    grid_search = GridSearchCV(models_[model_name_], params_[model_name_], cv=10, scoring='roc_auc', n_jobs=1)\n",
    "    grid_search.fit(X, y)\n",
    "    return grid_search.best_params_"
   ],
   "metadata": {
    "collapsed": false,
    "ExecuteTime": {
     "end_time": "2024-12-02T15:43:06.147646Z",
     "start_time": "2024-12-02T15:43:06.098035Z"
    }
   },
   "id": "cfe9260354a9b487"
  },
  {
   "cell_type": "code",
   "execution_count": 39,
   "outputs": [],
   "source": [
    "def train_models(train_set, test_set, models_, params_, k_):\n",
    "    results_ = []\n",
    "    X_train = count_kmers_for_sequences(train_set['sequence'], k_)\n",
    "    y_train = train_set['label']\n",
    "    X_test = count_kmers_for_sequences(test_set['sequence'], k_)\n",
    "    y_test = test_set['label']\n",
    "    for model_name, model in models_.items():\n",
    "        print(\"Model: \", model_name)\n",
    "        best_params = grid_search_cross_validation(model_name, X_train, y_train, models_, params_)\n",
    "        model.set_params(**best_params)\n",
    "\n",
    "        model.fit(X_train, y_train)\n",
    "        y_pred = model.predict(X_test)\n",
    "        y_prob = model.predict_proba(X_test)[:, 1]\n",
    "\n",
    "        accuracy, precision, recall, f1, auc_score, cm = evaluate_metrics(y_pred, y_prob, y_test)\n",
    "\n",
    "        results_.append({\n",
    "            \"Model\": model_name,\n",
    "            \"Accuracy\": accuracy,\n",
    "            \"Precision\": precision,\n",
    "            \"Recall\": recall,\n",
    "            \"F1-score\": f1,\n",
    "            \"AUC-ROC\": auc_score,\n",
    "            \"Confusion matrix\": cm.tolist()\n",
    "        })\n",
    "        \n",
    "    return results_"
   ],
   "metadata": {
    "collapsed": false,
    "ExecuteTime": {
     "end_time": "2024-12-02T15:43:06.148560Z",
     "start_time": "2024-12-02T15:43:06.104554Z"
    }
   },
   "id": "b9251973239a2397"
  },
  {
   "cell_type": "markdown",
   "source": [
    "#### Set-up"
   ],
   "metadata": {
    "collapsed": false
   },
   "id": "618872c425673f24"
  },
  {
   "cell_type": "code",
   "execution_count": 40,
   "outputs": [],
   "source": [
    "models = {\n",
    "    \"Logistic Regression\": LogisticRegression(),\n",
    "    \"Random Forest\": RandomForestClassifier(),\n",
    "    \"XGBoost\": xgb.XGBClassifier()\n",
    "}"
   ],
   "metadata": {
    "collapsed": false,
    "ExecuteTime": {
     "end_time": "2024-12-02T15:43:06.149205Z",
     "start_time": "2024-12-02T15:43:06.111253Z"
    }
   },
   "id": "3a8856d487f08e9c"
  },
  {
   "cell_type": "code",
   "execution_count": 41,
   "outputs": [],
   "source": [
    "params = {\n",
    "    \"Logistic Regression\": {\n",
    "        'C': [0.01, 0.1, 1, 10],            \n",
    "        'penalty': ['l2'],                 \n",
    "        'solver': ['liblinear', 'saga']    \n",
    "    },\n",
    "\n",
    "    \"Random Forest\": {\n",
    "        'n_estimators': [100, 200],    \n",
    "        'max_depth': [None, 20],        \n",
    "        'min_samples_split': [2, 5]  \n",
    "    },\n",
    "\n",
    "    \"XGBoost\": {\n",
    "        'learning_rate': [0.1, 0.3],\n",
    "        'max_depth': [4, 6, 8]                               \n",
    "    }\n",
    "}"
   ],
   "metadata": {
    "collapsed": false,
    "ExecuteTime": {
     "end_time": "2024-12-02T15:43:06.149405Z",
     "start_time": "2024-12-02T15:43:06.117225Z"
    }
   },
   "id": "5524f5578e556346"
  },
  {
   "cell_type": "code",
   "execution_count": 42,
   "outputs": [],
   "source": [
    "k_values = [3, 4, 5]"
   ],
   "metadata": {
    "collapsed": false,
    "ExecuteTime": {
     "end_time": "2024-12-02T15:43:06.149488Z",
     "start_time": "2024-12-02T15:43:06.121301Z"
    }
   },
   "id": "33dd527c9fd9396a"
  },
  {
   "cell_type": "markdown",
   "source": [
    "#### Negatives from experiments.tsv"
   ],
   "metadata": {
    "collapsed": false
   },
   "id": "2fa06bec2ae083cb"
  },
  {
   "cell_type": "code",
   "execution_count": 43,
   "outputs": [],
   "source": [
    "train, test = split_train_test(positive, negative)\n",
    "results_exp = {}"
   ],
   "metadata": {
    "collapsed": false,
    "ExecuteTime": {
     "end_time": "2024-12-02T15:43:06.149580Z",
     "start_time": "2024-12-02T15:43:06.128602Z"
    }
   },
   "id": "d4956b5f5bffba70"
  },
  {
   "cell_type": "code",
   "execution_count": 44,
   "outputs": [
    {
     "name": "stdout",
     "output_type": "stream",
     "text": [
      "\n",
      "Training models for k=3\n",
      "Model:  Logistic Regression\n",
      "Model:  Random Forest\n",
      "Model:  XGBoost\n",
      "\n",
      "Training models for k=4\n",
      "Model:  Logistic Regression\n",
      "Model:  Random Forest\n",
      "Model:  XGBoost\n",
      "\n",
      "Training models for k=5\n",
      "Model:  Logistic Regression\n",
      "Model:  Random Forest\n",
      "Model:  XGBoost\n"
     ]
    }
   ],
   "source": [
    "for k in k_values:\n",
    "    print(f\"\\nTraining models for k={k}\\n\")\n",
    "    results_k = train_models(train, test, models, params, k_=k)\n",
    "    results_exp[k] = results_k  "
   ],
   "metadata": {
    "collapsed": false,
    "ExecuteTime": {
     "end_time": "2024-12-02T16:01:05.859893Z",
     "start_time": "2024-12-02T15:43:06.133388Z"
    }
   },
   "id": "e4ad296cd3e391b2"
  },
  {
   "cell_type": "code",
   "execution_count": 45,
   "outputs": [
    {
     "name": "stdout",
     "output_type": "stream",
     "text": [
      "Results for k=3\n",
      "                 Model  Accuracy  Precision  Recall  F1-score   AUC-ROC  \\\n",
      "0  Logistic Regression   0.50875   0.504648  0.9500  0.659150  0.564916   \n",
      "1        Random Forest   0.52750   0.519504  0.7325  0.607884  0.558847   \n",
      "2              XGBoost   0.53125   0.523191  0.7050  0.600639  0.541753   \n",
      "\n",
      "           Confusion matrix  \n",
      "0    [[27, 373], [20, 380]]  \n",
      "1  [[129, 271], [107, 293]]  \n",
      "2  [[143, 257], [118, 282]]  \n",
      "Results for k=4\n",
      "                 Model  Accuracy  Precision  Recall  F1-score   AUC-ROC  \\\n",
      "0  Logistic Regression   0.50125   0.500649   0.965  0.659266  0.564747   \n",
      "1        Random Forest   0.53250   0.521036   0.805  0.632613  0.572219   \n",
      "2              XGBoost   0.52125   0.515654   0.700  0.593849  0.562359   \n",
      "\n",
      "           Confusion matrix  \n",
      "0    [[15, 385], [14, 386]]  \n",
      "1   [[104, 296], [78, 322]]  \n",
      "2  [[137, 263], [120, 280]]  \n",
      "Results for k=5\n",
      "                 Model  Accuracy  Precision  Recall  F1-score   AUC-ROC  \\\n",
      "0  Logistic Regression   0.50500   0.502532  0.9925  0.667227  0.556403   \n",
      "1        Random Forest   0.52375   0.514372  0.8500  0.640905  0.568572   \n",
      "2              XGBoost   0.52875   0.522244  0.6750  0.588877  0.558503   \n",
      "\n",
      "           Confusion matrix  \n",
      "0      [[7, 393], [3, 397]]  \n",
      "1    [[79, 321], [60, 340]]  \n",
      "2  [[153, 247], [130, 270]]  \n"
     ]
    }
   ],
   "source": [
    "for k, results_k in results_exp.items():\n",
    "    print(f\"Results for k={k}\")\n",
    "    df = pd.DataFrame(results_k)\n",
    "    print(df)"
   ],
   "metadata": {
    "collapsed": false,
    "ExecuteTime": {
     "end_time": "2024-12-02T16:01:05.916749Z",
     "start_time": "2024-12-02T16:01:05.903021Z"
    }
   },
   "id": "b2e1e924a20aec0b"
  },
  {
   "cell_type": "markdown",
   "source": [
    "#### Random sequences from the entire genome"
   ],
   "metadata": {
    "collapsed": false
   },
   "id": "8b1d192a7b98b61"
  },
  {
   "cell_type": "code",
   "execution_count": 46,
   "outputs": [],
   "source": [
    "train, test = split_train_test(positive, random_negative)\n",
    "results_rnd = {}"
   ],
   "metadata": {
    "collapsed": false,
    "ExecuteTime": {
     "end_time": "2024-12-02T16:01:05.944544Z",
     "start_time": "2024-12-02T16:01:05.905280Z"
    }
   },
   "id": "f78788d16d4266e1"
  },
  {
   "cell_type": "code",
   "execution_count": 47,
   "outputs": [
    {
     "name": "stdout",
     "output_type": "stream",
     "text": [
      "\n",
      "Training models for k=3\n",
      "Model:  Logistic Regression\n",
      "Model:  Random Forest\n",
      "Model:  XGBoost\n",
      "\n",
      "Training models for k=4\n",
      "Model:  Logistic Regression\n",
      "Model:  Random Forest\n",
      "Model:  XGBoost\n",
      "\n",
      "Training models for k=5\n",
      "Model:  Logistic Regression\n",
      "Model:  Random Forest\n",
      "Model:  XGBoost\n"
     ]
    }
   ],
   "source": [
    "for k in k_values:\n",
    "    print(f\"\\nTraining models for k={k}\\n\")\n",
    "    results_k = train_models(train, test, models, params, k_=k)\n",
    "    results_rnd[k] = results_k "
   ],
   "metadata": {
    "collapsed": false,
    "ExecuteTime": {
     "end_time": "2024-12-02T16:19:28.139440Z",
     "start_time": "2024-12-02T16:01:05.916525Z"
    }
   },
   "id": "44e5f62b95a8e939"
  },
  {
   "cell_type": "code",
   "execution_count": 48,
   "outputs": [
    {
     "name": "stdout",
     "output_type": "stream",
     "text": [
      "Results for k=3\n",
      "                 Model  Accuracy  Precision  Recall  F1-score   AUC-ROC  \\\n",
      "0  Logistic Regression   0.68375   0.719403  0.6025  0.655782  0.761706   \n",
      "1        Random Forest   0.70000   0.729885  0.6350  0.679144  0.766550   \n",
      "2              XGBoost   0.68875   0.718841  0.6200  0.665772  0.770531   \n",
      "\n",
      "          Confusion matrix  \n",
      "0  [[306, 94], [159, 241]]  \n",
      "1  [[306, 94], [146, 254]]  \n",
      "2  [[303, 97], [152, 248]]  \n",
      "Results for k=4\n",
      "                 Model  Accuracy  Precision  Recall  F1-score   AUC-ROC  \\\n",
      "0  Logistic Regression   0.67750   0.716463  0.5875  0.645604  0.770281   \n",
      "1        Random Forest   0.71750   0.755882  0.6425  0.694595  0.788372   \n",
      "2              XGBoost   0.72625   0.756374  0.6675  0.709163  0.804838   \n",
      "\n",
      "          Confusion matrix  \n",
      "0  [[307, 93], [165, 235]]  \n",
      "1  [[317, 83], [143, 257]]  \n",
      "2  [[314, 86], [133, 267]]  \n",
      "Results for k=5\n",
      "                 Model  Accuracy  Precision  Recall  F1-score   AUC-ROC  \\\n",
      "0  Logistic Regression   0.67250   0.709091  0.5850  0.641096  0.761381   \n",
      "1        Random Forest   0.71875   0.746479  0.6625  0.701987  0.787756   \n",
      "2              XGBoost   0.72250   0.764881  0.6425  0.698370  0.808744   \n",
      "\n",
      "          Confusion matrix  \n",
      "0  [[304, 96], [166, 234]]  \n",
      "1  [[310, 90], [135, 265]]  \n",
      "2  [[321, 79], [143, 257]]  \n"
     ]
    }
   ],
   "source": [
    "for k, results_k in results_rnd.items():\n",
    "    print(f\"Results for k={k}\")\n",
    "    df = pd.DataFrame(results_k)\n",
    "    print(df)"
   ],
   "metadata": {
    "collapsed": false,
    "ExecuteTime": {
     "end_time": "2024-12-02T16:19:28.154711Z",
     "start_time": "2024-12-02T16:19:28.151452Z"
    }
   },
   "id": "ceca16fd5cede50d"
  },
  {
   "cell_type": "code",
   "execution_count": 48,
   "outputs": [],
   "source": [],
   "metadata": {
    "collapsed": false,
    "ExecuteTime": {
     "end_time": "2024-12-02T16:19:28.162919Z",
     "start_time": "2024-12-02T16:19:28.155266Z"
    }
   },
   "id": "179f8331b466281f"
  }
 ],
 "metadata": {
  "kernelspec": {
   "display_name": "Python 3",
   "language": "python",
   "name": "python3"
  },
  "language_info": {
   "codemirror_mode": {
    "name": "ipython",
    "version": 2
   },
   "file_extension": ".py",
   "mimetype": "text/x-python",
   "name": "python",
   "nbconvert_exporter": "python",
   "pygments_lexer": "ipython2",
   "version": "2.7.6"
  }
 },
 "nbformat": 4,
 "nbformat_minor": 5
}
