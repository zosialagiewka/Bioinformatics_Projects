{
 "cells": [
  {
   "cell_type": "markdown",
   "source": [
    "# TASK 1 - Implementation of Sequence Alignment Algorithms\n",
    "Zofia Łągiewka 313096"
   ],
   "metadata": {
    "collapsed": false
   },
   "id": "c59458fa1c0bc507"
  },
  {
   "cell_type": "code",
   "execution_count": 106,
   "outputs": [],
   "source": [
    "from utils import load_matrix, fill_matrices, traceback, print_and_save_results\n",
    "import numpy as np"
   ],
   "metadata": {
    "collapsed": false,
    "ExecuteTime": {
     "end_time": "2024-10-27T17:32:01.433510Z",
     "start_time": "2024-10-27T17:32:01.391065Z"
    }
   },
   "id": "2576c985dda501d6"
  },
  {
   "cell_type": "markdown",
   "source": [
    "## Needleman-Wunsch - global alignment"
   ],
   "metadata": {
    "collapsed": false
   },
   "id": "6f2e358f6a8afd62"
  },
  {
   "cell_type": "code",
   "execution_count": 107,
   "outputs": [],
   "source": [
    "def needleman_wunsch(sequence1, sequence2, n, path, GP_, output_filename='output_NW.txt', print_results=True):\n",
    "    \"\"\"\n",
    "    Performs the Needleman-Wunsch algorithm to find n global alignments\n",
    "\n",
    "    Parameters:\n",
    "    - sequence1 (str): first DNA sequence\n",
    "    - sequence2 (str): second DNA sequence\n",
    "    - n (int): maximum number of alignments\n",
    "    - path (str): filepath to the substitution matrix in CSV format\n",
    "    - GP (int): gap penalty\n",
    "    - output_filename (str): name of the output file\n",
    "    \"\"\"\n",
    "    substitution_matrix_ = load_matrix(path)\n",
    "    scoring_matrix, direction_matrix = fill_matrices(sequence1, sequence2, substitution_matrix_, GP_)\n",
    "    \n",
    "    alignments = []\n",
    "    traceback(sequence1, sequence2, direction_matrix, scoring_matrix, len(sequence1), len(sequence2), '', '', alignments, n)\n",
    "    \n",
    "    print_and_save_results(output_filename, alignments, \"Global\", print_results)    \n",
    "    return alignments"
   ],
   "metadata": {
    "collapsed": false,
    "ExecuteTime": {
     "end_time": "2024-10-27T17:32:01.445416Z",
     "start_time": "2024-10-27T17:32:01.398126Z"
    }
   },
   "id": "19711193b836b322"
  },
  {
   "cell_type": "markdown",
   "source": [
    "### Example use"
   ],
   "metadata": {
    "collapsed": false
   },
   "id": "9ecedac39e5d5b1d"
  },
  {
   "cell_type": "code",
   "execution_count": 108,
   "outputs": [
    {
     "name": "stdout",
     "output_type": "stream",
     "text": [
      "Global alignment no. 1:\n",
      "-TATA\n",
      "ATAT-\n",
      "Score: 11\n",
      "\n",
      "Global alignment no. 2:\n",
      "TATA-\n",
      "-ATAT\n",
      "Score: 11\n"
     ]
    },
    {
     "data": {
      "text/plain": "[('-TATA', 'ATAT-', 11), ('TATA-', '-ATAT', 11)]"
     },
     "execution_count": 108,
     "metadata": {},
     "output_type": "execute_result"
    }
   ],
   "source": [
    "needleman_wunsch('TATA', 'ATAT', n=3, path='matrix.csv', GP_=-2, output_filename='output_nw.txt')"
   ],
   "metadata": {
    "collapsed": false,
    "ExecuteTime": {
     "end_time": "2024-10-27T17:32:01.482079Z",
     "start_time": "2024-10-27T17:32:01.402595Z"
    }
   },
   "id": "1c88809d79df3763"
  },
  {
   "cell_type": "markdown",
   "source": [
    "## Smith-Waterman - local alignment"
   ],
   "metadata": {
    "collapsed": false
   },
   "id": "91ba77d4b25757f"
  },
  {
   "cell_type": "code",
   "execution_count": 109,
   "outputs": [],
   "source": [
    "def smith_waterman(sequence1, sequence2, n, path, GP_, output_filename='output_SW.txt', print_results=True):\n",
    "    \"\"\"\n",
    "    Performs the Smith-Waterman algorithm to find n local alignments\n",
    "\n",
    "    Parameters:\n",
    "        - sequence1 (str): first DNA sequence\n",
    "        - sequence2 (str): second DNA sequence\n",
    "        - n (int): maximum number of alignments\n",
    "        - path (str): filepath to the substitution matrix in CSV format\n",
    "        - GP (int): gap penalty\n",
    "        - output_filename (str): name of the output file\n",
    "    \"\"\"\n",
    "    substitution_matrix_ = load_matrix(path)\n",
    "    scoring_matrix, direction_matrix = fill_matrices(sequence1, sequence2, substitution_matrix_, GP_, global_alignment=False)\n",
    "    \n",
    "    alignments = []\n",
    "    max_score = scoring_matrix.max()\n",
    "    for (i, j) in np.argwhere(scoring_matrix == max_score):\n",
    "        traceback(sequence1, sequence2, direction_matrix, scoring_matrix, i, j, '', '', alignments, n, global_alignment=False, start_position=(i, j))\n",
    "    \n",
    "    print_and_save_results(output_filename, alignments, \"Local\", print_results)\n",
    "    return alignments"
   ],
   "metadata": {
    "collapsed": false,
    "ExecuteTime": {
     "end_time": "2024-10-27T17:32:01.493756Z",
     "start_time": "2024-10-27T17:32:01.408539Z"
    }
   },
   "id": "6061d0c265dfd07c"
  },
  {
   "cell_type": "markdown",
   "source": [
    "### Example use"
   ],
   "metadata": {
    "collapsed": false
   },
   "id": "7dd303f684ad78ca"
  },
  {
   "cell_type": "code",
   "execution_count": 110,
   "outputs": [
    {
     "name": "stdout",
     "output_type": "stream",
     "text": [
      "Local alignment no. 1:\n",
      "TAT\n",
      "TAT\n",
      "Score: 15\n",
      "\n",
      "Local alignment no. 2:\n",
      "ATA\n",
      "ATA\n",
      "Score: 15\n"
     ]
    },
    {
     "data": {
      "text/plain": "[('TAT', 'TAT', 15), ('ATA', 'ATA', 15)]"
     },
     "execution_count": 110,
     "metadata": {},
     "output_type": "execute_result"
    }
   ],
   "source": [
    "smith_waterman('TATA', 'ATAT', n=3, path='matrix.csv', GP_=-2, output_filename='output_sw.txt')"
   ],
   "metadata": {
    "collapsed": false,
    "ExecuteTime": {
     "end_time": "2024-10-27T17:32:01.505121Z",
     "start_time": "2024-10-27T17:32:01.415852Z"
    }
   },
   "id": "2f11bb5ee7e47c83"
  },
  {
   "cell_type": "markdown",
   "source": [
    "# UNIT tests"
   ],
   "metadata": {
    "collapsed": false
   },
   "id": "4fd2153c2e784576"
  },
  {
   "cell_type": "code",
   "execution_count": 111,
   "outputs": [],
   "source": [
    "seq1 = 'ATCG'\n",
    "seq2 = 'TACG'\n",
    "GP = -2\n",
    "max_alignments = 3\n",
    "PATH = 'matrix.csv'\n",
    "substitution_matrix = load_matrix(PATH)"
   ],
   "metadata": {
    "collapsed": false,
    "ExecuteTime": {
     "end_time": "2024-10-27T17:32:01.506877Z",
     "start_time": "2024-10-27T17:32:01.421457Z"
    }
   },
   "id": "39a5012a78bb0358"
  },
  {
   "cell_type": "markdown",
   "source": [
    "### Checking if the results are saved properly and fulfill theoretical requirements"
   ],
   "metadata": {
    "collapsed": false
   },
   "id": "4e87cc5753f32b47"
  },
  {
   "cell_type": "code",
   "execution_count": 136,
   "outputs": [],
   "source": [
    "def test_fill_matrices_NW(seq1_, seq2_, GP_, substitution_matrix_):\n",
    "    \"\"\"\n",
    "    Tests the initialization of the Needleman-Wunsch scoring matrix\n",
    "\n",
    "    Asserts:\n",
    "        - gap penalties are correctly initialized in the scoring matrix\n",
    "        - final score is non-negative to validate proper global alignment scoring\n",
    "    \"\"\"\n",
    "    scoring_matrix, direction_matrix = fill_matrices(seq1_, seq2_, substitution_matrix_, GP_)\n",
    "    assert scoring_matrix[0, 1] == GP_, \"Global alignment gap penalty initialization failed\"\n",
    "    assert scoring_matrix[1, 0] == GP_, \"Global alignment gap penalty initialization failed\"\n",
    "    assert scoring_matrix[-1, -1] >= 0, \"Global alignment scoring matrix does not have expected positive score\"\n",
    "    print(\"Test passed\")"
   ],
   "metadata": {
    "collapsed": false,
    "ExecuteTime": {
     "end_time": "2024-10-27T17:36:15.548216Z",
     "start_time": "2024-10-27T17:36:15.540543Z"
    }
   },
   "id": "f7407897aa349436"
  },
  {
   "cell_type": "code",
   "execution_count": 137,
   "outputs": [],
   "source": [
    "def test_fill_matrices_SW(seq1_, seq2_, GP_, substitution_matrix_):\n",
    "    \"\"\"\n",
    "    Tests the initialization of the Smith-Waterman scoring matrix\n",
    "\n",
    "    Asserts:\n",
    "        - matrix starts with zeros, which is a characteristic of local alignment\n",
    "        - all scores are non-negative\n",
    "    \"\"\"\n",
    "    scoring_matrix, direction_matrix = fill_matrices(seq1_, seq2_, substitution_matrix_, GP_, global_alignment=False)\n",
    "    assert scoring_matrix[0, 0] == 0, \"Local alignment matrix should start with zero\"\n",
    "    assert scoring_matrix.max() >= 0, \"Local alignment scoring matrix should only contain non-negative scores\"\n",
    "    print(\"Test passed\")"
   ],
   "metadata": {
    "collapsed": false,
    "ExecuteTime": {
     "end_time": "2024-10-27T17:36:15.981380Z",
     "start_time": "2024-10-27T17:36:15.968637Z"
    }
   },
   "id": "2ce0629a3042b45f"
  },
  {
   "cell_type": "code",
   "execution_count": 138,
   "outputs": [],
   "source": [
    "def test_saving_to_file_NW(seq1_, seq2_, GP_, max_alignments_, PATH_):\n",
    "    \"\"\"\n",
    "    Tests whether global alignments are saved properly to a file\n",
    "    \"\"\"\n",
    "    needleman_wunsch(seq1_, seq2_, n=max_alignments_, path=PATH_, GP_=GP_, output_filename='output_nw_test.txt', print_results=False)\n",
    "    with open('output_nw_test.txt', 'r') as file:\n",
    "        content = file.read()\n",
    "    assert \"Global alignment no. 1\" in content, \"Needleman-Wunsch output file does not contain expected results\"\n",
    "    print(\"Test passed\")"
   ],
   "metadata": {
    "collapsed": false,
    "ExecuteTime": {
     "end_time": "2024-10-27T17:36:16.213854Z",
     "start_time": "2024-10-27T17:36:16.200870Z"
    }
   },
   "id": "f5bc0a6ac77a5b3"
  },
  {
   "cell_type": "code",
   "execution_count": 139,
   "outputs": [],
   "source": [
    "def test_saving_to_file_SW(seq1_, seq2_, GP_, max_alignments_, PATH_):\n",
    "    \"\"\"\n",
    "    Tests whether local alignments are saved properly to a file\n",
    "    \"\"\"\n",
    "    smith_waterman(seq1_, seq2_, n=max_alignments_, path=PATH_, GP_=GP_, output_filename='output_sw_test.txt', print_results=False)\n",
    "    with open('output_sw_test.txt', 'r') as file:\n",
    "        content = file.read()\n",
    "    assert \"Local alignment no. 1\" in content, \"Smith-Waterman output file does not contain expected results\"\n",
    "    print(\"Test passed\")"
   ],
   "metadata": {
    "collapsed": false,
    "ExecuteTime": {
     "end_time": "2024-10-27T17:36:16.481776Z",
     "start_time": "2024-10-27T17:36:16.475769Z"
    }
   },
   "id": "c76f964e44641b1"
  },
  {
   "cell_type": "code",
   "execution_count": 140,
   "outputs": [
    {
     "name": "stdout",
     "output_type": "stream",
     "text": [
      "Test passed\n",
      "Test passed\n",
      "Test passed\n",
      "Test passed\n"
     ]
    }
   ],
   "source": [
    "test_fill_matrices_NW(seq1, seq2, GP, substitution_matrix)\n",
    "test_fill_matrices_SW(seq1, seq2, GP, substitution_matrix)\n",
    "test_saving_to_file_NW(seq1, seq2, GP, substitution_matrix, max_alignments, PATH)\n",
    "test_saving_to_file_SW(seq1, seq2, GP, substitution_matrix, max_alignments, PATH)"
   ],
   "metadata": {
    "collapsed": false,
    "ExecuteTime": {
     "end_time": "2024-10-27T17:36:16.868334Z",
     "start_time": "2024-10-27T17:36:16.859802Z"
    }
   },
   "id": "18da9a04caf508ee"
  },
  {
   "cell_type": "markdown",
   "source": [
    "### Comparing with outside sources\n",
    "Correct results were obtained from: \n",
    "http://rna.informatik.uni-freiburg.de/Teaching/index.jsp?toolName=Needleman-Wunsch \n",
    "http://rna.informatik.uni-freiburg.de/Teaching/index.jsp?toolName=Smith-Waterman\n",
    "\n",
    "For the purpose of the below tests, constant match and mismatch penalties were used (match: 4, mismatch: -3, GP: -2) "
   ],
   "metadata": {
    "collapsed": false
   },
   "id": "d00e1b80b78f7156"
  },
  {
   "cell_type": "code",
   "execution_count": 133,
   "outputs": [],
   "source": [
    "PATH = 'matrix_test.csv'\n",
    "substitution_matrix = load_matrix(PATH)"
   ],
   "metadata": {
    "collapsed": false,
    "ExecuteTime": {
     "end_time": "2024-10-27T17:35:25.801351Z",
     "start_time": "2024-10-27T17:35:25.785876Z"
    }
   },
   "id": "983127562afda6a3"
  },
  {
   "cell_type": "markdown",
   "source": [
    "#### Check scoring matrix"
   ],
   "metadata": {
    "collapsed": false
   },
   "id": "9653942fd037af21"
  },
  {
   "cell_type": "code",
   "execution_count": 118,
   "outputs": [],
   "source": [
    "def test_correctness_of_filling_matrices(seq1_, seq2_, substitution_matrix_, GP_, correct_scoring_matrix, global_alignment=True):\n",
    "    \"\"\"\n",
    "    Validates the accuracy of scoring matrix values for global or local alignment\n",
    "\n",
    "    Asserts:\n",
    "        - the computed scoring matrix matches the expected values element-wise\n",
    "    \"\"\"\n",
    "    scoring_matrix, direction_matrix = fill_matrices(seq1_, seq2_, substitution_matrix_, GP_, global_alignment=global_alignment)\n",
    "    for i in range(len(correct_scoring_matrix)):\n",
    "        for j in range(len(correct_scoring_matrix[i])):\n",
    "            assert scoring_matrix[i, j] == correct_scoring_matrix[i][j], f\"Scoring matrix mismatch at ({i}, {j}): expected {correct_scoring_matrix[i][j]}, got {scoring_matrix[i, j]}\"\n",
    "    print(\"Test passed\")"
   ],
   "metadata": {
    "collapsed": false,
    "ExecuteTime": {
     "end_time": "2024-10-27T17:32:01.518904Z",
     "start_time": "2024-10-27T17:32:01.450066Z"
    }
   },
   "id": "44775b180f567a06"
  },
  {
   "cell_type": "code",
   "execution_count": 119,
   "outputs": [
    {
     "name": "stdout",
     "output_type": "stream",
     "text": [
      "Test passed\n"
     ]
    }
   ],
   "source": [
    "correct_scoring_matrix_NW = [[0, -2, -4, -6, -8],\n",
    "                             [-2, -3, 2, 0, -2],\n",
    "                             [-4, 2, 0, -1, -3],\n",
    "                             [-6, 0, -1, 4, 2],\n",
    "                             [-8, -2, -3, 2, 8]]\n",
    "test_correctness_of_filling_matrices(seq1, seq2, substitution_matrix, GP, correct_scoring_matrix_NW)"
   ],
   "metadata": {
    "collapsed": false,
    "ExecuteTime": {
     "end_time": "2024-10-27T17:32:01.519189Z",
     "start_time": "2024-10-27T17:32:01.453321Z"
    }
   },
   "id": "3d3a2844a69e17f1"
  },
  {
   "cell_type": "code",
   "execution_count": 120,
   "outputs": [
    {
     "name": "stdout",
     "output_type": "stream",
     "text": [
      "Test passed\n"
     ]
    }
   ],
   "source": [
    "correct_scoring_matrix_SW = [[0, 0, 0, 0, 0],\n",
    "                             [0, 0, 4, 2, 0],\n",
    "                             [0, 4, 2, 1, 0],\n",
    "                             [0, 2, 1, 6, 4],\n",
    "                             [0, 0, 0, 4, 10]]\n",
    "test_correctness_of_filling_matrices(seq1, seq2, substitution_matrix, GP, correct_scoring_matrix_SW, global_alignment=False)"
   ],
   "metadata": {
    "collapsed": false,
    "ExecuteTime": {
     "end_time": "2024-10-27T17:32:01.519392Z",
     "start_time": "2024-10-27T17:32:01.457539Z"
    }
   },
   "id": "e5ce9dc80d3dcda3"
  },
  {
   "cell_type": "markdown",
   "source": [
    "#### Check alignments and score"
   ],
   "metadata": {
    "collapsed": false
   },
   "id": "f98efacf27ef5fb4"
  },
  {
   "cell_type": "code",
   "execution_count": 150,
   "outputs": [],
   "source": [
    "def test_correctness_of_alignments(seq1_, seq2_, PATH_, GP_, max_alignments_, correct_alignments_, correct_score_, global_alignment=True):\n",
    "    \"\"\"\n",
    "    Verifies alignment results produced by Needleman-Wunsch or Smith-Waterman algorithms\n",
    "\n",
    "    Asserts:\n",
    "        - number of alignments matches the expected count (unless max_alignment criteria states otherwise)\n",
    "        - each alignment and score matches expected values\n",
    "    \"\"\"\n",
    "    if global_alignment:\n",
    "        alignments = needleman_wunsch(seq1_, seq2_, max_alignments_, PATH_, GP_, print_results=False)\n",
    "    else:\n",
    "        alignments = smith_waterman(seq1_, seq2_, max_alignments_, PATH_, GP_, print_results=False)\n",
    "        \n",
    "    if len(alignments) < max_alignments_:\n",
    "        assert len(alignments) == len(correct_alignments_), f\"Expected {len(correct_alignments_)} alignments, but got {len(alignments)}\"\n",
    "    \n",
    "    for i, (al1, al2, score) in enumerate(alignments):\n",
    "        assert (al1, al2) == correct_alignments_[i], f\"Alignment mismatch at index {i}: expected {correct_alignments_[i]}, got {(al1, al2)}\"\n",
    "        assert score == correct_score_, f\"Expected alignment score {correct_score_}, but got {score}\"\n",
    "\n",
    "    print(\"Test passed\")"
   ],
   "metadata": {
    "collapsed": false,
    "ExecuteTime": {
     "end_time": "2024-10-27T17:46:18.247596Z",
     "start_time": "2024-10-27T17:46:18.236636Z"
    }
   },
   "id": "c99d97340060baf7"
  },
  {
   "cell_type": "code",
   "execution_count": 151,
   "outputs": [
    {
     "name": "stdout",
     "output_type": "stream",
     "text": [
      "Test passed\n"
     ]
    }
   ],
   "source": [
    "correct_alignments_NW = [('-ATCG', 'TA-CG'), ('AT-CG', '-TACG')]\n",
    "correct_score_NW = 8\n",
    "test_correctness_of_alignments(seq1, seq2, PATH, GP, max_alignments, correct_alignments_NW, correct_score_NW)"
   ],
   "metadata": {
    "collapsed": false,
    "ExecuteTime": {
     "end_time": "2024-10-27T17:46:18.636368Z",
     "start_time": "2024-10-27T17:46:18.627559Z"
    }
   },
   "id": "bd335eb2c9d5b801"
  },
  {
   "cell_type": "code",
   "execution_count": 135,
   "outputs": [
    {
     "name": "stdout",
     "output_type": "stream",
     "text": [
      "Test passed\n"
     ]
    }
   ],
   "source": [
    "correct_alignments_SW = [('ATCG', 'A-CG'), ('T-CG', 'TACG')]\n",
    "correct_score_SW = 10\n",
    "test_correctness_of_alignments(seq1, seq2, PATH, GP, max_alignments, correct_alignments_SW, correct_score_SW, global_alignment=False)"
   ],
   "metadata": {
    "collapsed": false,
    "ExecuteTime": {
     "end_time": "2024-10-27T17:35:57.518790Z",
     "start_time": "2024-10-27T17:35:57.503067Z"
    }
   },
   "id": "e8c91dddbf4a6b94"
  }
 ],
 "metadata": {
  "kernelspec": {
   "display_name": "Python 3",
   "language": "python",
   "name": "python3"
  },
  "language_info": {
   "codemirror_mode": {
    "name": "ipython",
    "version": 2
   },
   "file_extension": ".py",
   "mimetype": "text/x-python",
   "name": "python",
   "nbconvert_exporter": "python",
   "pygments_lexer": "ipython2",
   "version": "2.7.6"
  }
 },
 "nbformat": 4,
 "nbformat_minor": 5
}
