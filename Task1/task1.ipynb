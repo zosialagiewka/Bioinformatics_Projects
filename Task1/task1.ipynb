{
 "cells": [
  {
   "cell_type": "markdown",
   "source": [
    "# TASK 1 - Implementation of Sequence Alignment Algorithms\n",
    "Zofia Łągiewka 313096"
   ],
   "metadata": {
    "collapsed": false
   },
   "id": "c59458fa1c0bc507"
  },
  {
   "cell_type": "code",
   "execution_count": 220,
   "outputs": [],
   "source": [
    "import csv\n",
    "import numpy as np"
   ],
   "metadata": {
    "collapsed": false,
    "ExecuteTime": {
     "end_time": "2024-10-26T10:35:10.816942Z",
     "start_time": "2024-10-26T10:35:10.789221Z"
    }
   },
   "id": "1bbe8029ff471895"
  },
  {
   "cell_type": "markdown",
   "source": [
    "### Loading and saving functionalities"
   ],
   "metadata": {
    "collapsed": false
   },
   "id": "c76c3ca3a9374d12"
  },
  {
   "cell_type": "code",
   "execution_count": 221,
   "outputs": [],
   "source": [
    "def load_matrix(path):\n",
    "    \"\"\"\n",
    "    Loads a substitution matrix that includes match, mismatch, and gap penalties from a CSV file\n",
    "\n",
    "        Parameters:\n",
    "        - path (str): filepath to the substitution matrix in CSV format\n",
    "    \n",
    "        Returns:\n",
    "        - matrix_ (dict): substitution matrix in a form of a nested dictionary where each key is a nucleotide, and each value is a dictionary mapping other nucleotides to their scores\n",
    "    \"\"\"\n",
    "    matrix_ = {}\n",
    "    with open(path, 'r') as file:\n",
    "        r = csv.reader(file)\n",
    "        nucleotides1 = [header.strip() for header in next(r)[1:]]\n",
    "        for row in r:\n",
    "            nucleotide = row[0].strip()\n",
    "            values = list(map(int, [x.strip() for x in row[1:]]))\n",
    "            matrix_[nucleotide] = dict(zip(nucleotides1, values))\n",
    "    return matrix_"
   ],
   "metadata": {
    "collapsed": false,
    "ExecuteTime": {
     "end_time": "2024-10-26T10:35:10.818666Z",
     "start_time": "2024-10-26T10:35:10.796691Z"
    }
   },
   "id": "initial_id"
  },
  {
   "cell_type": "code",
   "execution_count": 222,
   "outputs": [],
   "source": [
    "def print_and_save_results(filename, alignments, title):\n",
    "    \"\"\"\n",
    "    Prints and saves n optimal alignments to an output file\n",
    "\n",
    "    Parameters:\n",
    "        - filename (str): name of the output file\n",
    "        - alignments (list): alignment sequences and their scores\n",
    "        - title (str): string indicating the type of alignment (\"Global\", \"Local\").\n",
    "    \"\"\"   \n",
    "    with open(filename, 'a') as file:  # Changed to 'a' mode to append to the file\n",
    "        for i, (a1, a2, score) in enumerate(alignments, 1):\n",
    "            print(f\"{title} alignment no. {i}:\")\n",
    "            print(f\"{a1}\")\n",
    "            print(f\"{a2}\")\n",
    "            print(f\"Score: {score}\\n\")\n",
    "            \n",
    "            file.write(f\"{title} alignment no. {i}:\\n\")\n",
    "            file.write(f\"{a1}\\n\")\n",
    "            file.write(f\"{a2}\\n\")\n",
    "            file.write(f\"Score: {score}\\n\\n\")"
   ],
   "metadata": {
    "collapsed": false,
    "ExecuteTime": {
     "end_time": "2024-10-26T10:35:10.831407Z",
     "start_time": "2024-10-26T10:35:10.804305Z"
    }
   },
   "id": "e03edb6b36ebfebc"
  },
  {
   "cell_type": "markdown",
   "source": [
    "### Task logic"
   ],
   "metadata": {
    "collapsed": false
   },
   "id": "b6d179e8b05d28b2"
  },
  {
   "cell_type": "code",
   "execution_count": 223,
   "outputs": [],
   "source": [
    "def fill_matrices(sequence1, sequence2, substitution_matrix, GP):\n",
    "    \"\"\"\n",
    "    Fills the scoring and direction matrices\n",
    "    \n",
    "        Parameters:\n",
    "        - sequence1 (str): first DNA sequence\n",
    "        - sequence2 (str): second DNA sequence\n",
    "        - substitution_matrix (dict): dictionary that includes match, mismatch, and gap penalties\n",
    "        - GP (int): gap penalty \n",
    "    \n",
    "        Returns:\n",
    "        - scoring_matrix (np.ndarray): matrix containing scores for each alignment\n",
    "        - direction_matrix (np.ndarray): directions for traceback ('d' for diagonal, 'u' for up, and 'l' for left)\n",
    "    \"\"\"\n",
    "    x = len(sequence1) + 1\n",
    "    y = len(sequence2) + 1\n",
    "    scoring_matrix = np.zeros((x, y), dtype=int)\n",
    "    direction_matrix = np.empty((x, y), dtype=object) \n",
    "\n",
    "    for i in range(1, x):\n",
    "        scoring_matrix[i][0] = scoring_matrix[i - 1][0] + GP\n",
    "        direction_matrix[i][0] = ['u']\n",
    "    for j in range(1, y):\n",
    "        scoring_matrix[0][j] = scoring_matrix[0][j - 1] + GP\n",
    "        direction_matrix[0][j] = ['l']\n",
    "\n",
    "    for i in range(1, x):\n",
    "        for j in range(1, y):\n",
    "            diag = scoring_matrix[i - 1][j - 1] + substitution_matrix[sequence1[i - 1]][sequence2[j - 1]]\n",
    "            up = scoring_matrix[i - 1][j] + GP\n",
    "            left = scoring_matrix[i][j - 1] + GP\n",
    "            \n",
    "            max_score = max(diag, up, left)\n",
    "            scoring_matrix[i][j] = max_score\n",
    "\n",
    "            directions = []\n",
    "            if diag == max_score:\n",
    "                directions.append(\"d\")\n",
    "            if up == max_score:\n",
    "                directions.append(\"u\")\n",
    "            if left == max_score:\n",
    "                directions.append(\"l\")\n",
    "            direction_matrix[i][j] = directions\n",
    "\n",
    "    return scoring_matrix, direction_matrix"
   ],
   "metadata": {
    "collapsed": false,
    "ExecuteTime": {
     "end_time": "2024-10-26T10:35:10.832322Z",
     "start_time": "2024-10-26T10:35:10.814668Z"
    }
   },
   "id": "8418779100dc8799"
  },
  {
   "cell_type": "code",
   "execution_count": 224,
   "outputs": [],
   "source": [
    "def traceback(sequence1, sequence2, direction_matrix, scoring_matrix, i, j, alignment1, alignment2, alignments, n):\n",
    "    \"\"\"\n",
    "    Recursively traces back to get optimal alignments.\n",
    "\n",
    "        Parameters:\n",
    "        - sequence1 (str): first DNA sequence\n",
    "        - sequence2 (str): second DNA sequence\n",
    "        - direction_matrix (np.ndarray): directions for traceback ('d' for diagonal, 'u' for up, and 'l' for left)\n",
    "        - scoring_matrix (np.ndarray): matrix containing scores for each alignment\n",
    "        - i (int): current row index \n",
    "        - j (int): current column index \n",
    "        - alignment1 (str): current alignment string for sequence1\n",
    "        - alignment2 (str): current alignment string for sequence2\n",
    "        - alignments (list): found alignments\n",
    "        - n (int): maximum number of alignments\n",
    "\n",
    "    \"\"\"\n",
    "    if i == 0 and j == 0:\n",
    "        alignment = (alignment1, alignment2, scoring_matrix[len(sequence1), len(sequence2)])\n",
    "        if alignment not in alignments:\n",
    "            alignments.append(alignment)\n",
    "        return\n",
    "\n",
    "    if len(alignments) >= n:\n",
    "        return\n",
    "\n",
    "    for direction in direction_matrix[i][j]:\n",
    "        if direction == \"d\" and i > 0 and j > 0:\n",
    "            traceback(sequence1, sequence2, direction_matrix, scoring_matrix, i - 1, j - 1, sequence1[i - 1] + alignment1, sequence2[j - 1] + alignment2, alignments, n)\n",
    "        elif direction == \"u\" and i > 0:\n",
    "            traceback(sequence1, sequence2, direction_matrix, scoring_matrix, i - 1, j, sequence1[i - 1] + alignment1, \"-\" + alignment2, alignments, n)\n",
    "        elif direction == \"l\" and j > 0:\n",
    "            traceback(sequence1, sequence2, direction_matrix, scoring_matrix, i, j - 1, \"-\" + alignment1, sequence2[j - 1] + alignment2, alignments, n)"
   ],
   "metadata": {
    "collapsed": false,
    "ExecuteTime": {
     "end_time": "2024-10-26T10:35:10.833138Z",
     "start_time": "2024-10-26T10:35:10.822309Z"
    }
   },
   "id": "316302431e71844d"
  },
  {
   "cell_type": "markdown",
   "source": [
    "### Needleman-Wunsch"
   ],
   "metadata": {
    "collapsed": false
   },
   "id": "6f2e358f6a8afd62"
  },
  {
   "cell_type": "code",
   "execution_count": 225,
   "outputs": [],
   "source": [
    "def needleman_wunsch(sequence1, sequence2, n, path, GP, output_filename):\n",
    "    \"\"\"\n",
    "    Performs the Needleman-Wunsch algorithm to find n global alignments\n",
    "\n",
    "    Parameters:\n",
    "    - sequence1 (str): first DNA sequence\n",
    "    - sequence2 (str): second DNA sequence\n",
    "    - n (int): maximum number of alignments\n",
    "    - path (str): filepath to the substitution matrix in CSV format\n",
    "    - GP (int): gap penalty\n",
    "    - output_filename (str): name of the output file\n",
    "    \"\"\"\n",
    "    substitution_matrix = load_matrix(path)\n",
    "    scoring_matrix, direction_matrix = fill_matrices(sequence1, sequence2, substitution_matrix, GP)\n",
    "    \n",
    "    alignments = []\n",
    "    traceback(sequence1, sequence2, direction_matrix, scoring_matrix, len(sequence1), len(sequence2), '', '', alignments, n)\n",
    "    \n",
    "    print_and_save_results(output_filename, alignments, \"Global\")    "
   ],
   "metadata": {
    "collapsed": false,
    "ExecuteTime": {
     "end_time": "2024-10-26T10:35:10.833281Z",
     "start_time": "2024-10-26T10:35:10.826877Z"
    }
   },
   "id": "19711193b836b322"
  },
  {
   "cell_type": "code",
   "execution_count": 226,
   "outputs": [
    {
     "name": "stdout",
     "output_type": "stream",
     "text": [
      "Global alignment no. 1:\n",
      "G-ATA\n",
      "GC-TA\n",
      "Score: 7\n",
      "\n",
      "Global alignment no. 2:\n",
      "GA-TA\n",
      "G-CTA\n",
      "Score: 7\n"
     ]
    }
   ],
   "source": [
    "needleman_wunsch('GATA', 'GCTA', 3, 'matrix2.csv', -1, 'output.txt')"
   ],
   "metadata": {
    "collapsed": false,
    "ExecuteTime": {
     "end_time": "2024-10-26T10:35:10.834143Z",
     "start_time": "2024-10-26T10:35:10.830145Z"
    }
   },
   "id": "1c88809d79df3763"
  }
 ],
 "metadata": {
  "kernelspec": {
   "display_name": "Python 3",
   "language": "python",
   "name": "python3"
  },
  "language_info": {
   "codemirror_mode": {
    "name": "ipython",
    "version": 2
   },
   "file_extension": ".py",
   "mimetype": "text/x-python",
   "name": "python",
   "nbconvert_exporter": "python",
   "pygments_lexer": "ipython2",
   "version": "2.7.6"
  }
 },
 "nbformat": 4,
 "nbformat_minor": 5
}
