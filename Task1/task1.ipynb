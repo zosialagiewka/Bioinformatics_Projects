{
 "cells": [
  {
   "cell_type": "markdown",
   "source": [
    "# TASK 1 - Implementation of Sequence Alignment Algorithms\n",
    "Zofia Łągiewka 313096"
   ],
   "metadata": {
    "collapsed": false
   },
   "id": "c59458fa1c0bc507"
  },
  {
   "cell_type": "code",
   "execution_count": 2,
   "outputs": [],
   "source": [
    "import csv\n",
    "import numpy as np"
   ],
   "metadata": {
    "collapsed": false,
    "ExecuteTime": {
     "end_time": "2024-10-26T09:25:04.832076Z",
     "start_time": "2024-10-26T09:25:01.708012Z"
    }
   },
   "id": "1bbe8029ff471895"
  },
  {
   "cell_type": "code",
   "execution_count": 3,
   "outputs": [],
   "source": [
    "def load_matrix(path):\n",
    "    \"\"\"\n",
    "    Loads a substitution matrix that includes match, mismatch, and gap penalties from a CSV file\n",
    "\n",
    "        Parameters:\n",
    "        - path (str): filepath to the substitution matrix in CSV format\n",
    "    \n",
    "        Returns:\n",
    "        - matrix_ (dict): substitution matrix in a form of a nested dictionary where each key is a nucleotide, and each value is a dictionary mapping other nucleotides to their scores\n",
    "    \"\"\"\n",
    "    matrix_ = {}\n",
    "    with open(path, 'r') as file:\n",
    "        r = csv.reader(file)\n",
    "        nucleotides1 = [header.strip() for header in next(r)[1:]]\n",
    "        for row in r:\n",
    "            nucleotide = row[0].strip()\n",
    "            values = list(map(int, [x.strip() for x in row[1:]]))\n",
    "            matrix_[nucleotide] = dict(zip(nucleotides1, values))\n",
    "    return matrix_"
   ],
   "metadata": {
    "collapsed": false,
    "ExecuteTime": {
     "end_time": "2024-10-26T09:25:04.841495Z",
     "start_time": "2024-10-26T09:25:04.835530Z"
    }
   },
   "id": "initial_id"
  },
  {
   "cell_type": "code",
   "execution_count": 337,
   "outputs": [],
   "source": [
    "def fill_matrices(sequence1, sequence2, substitution_matrix, GP):\n",
    "    \"\"\"\n",
    "    Fills the scoring and direction matrices\n",
    "    \n",
    "        Parameters:\n",
    "        - sequence1 (str): first DNA sequence\n",
    "        - sequence2 (str): second DNA sequence\n",
    "        - substitution_matrix (dict): dictionary that includes match, mismatch, and gap penalties\n",
    "        - GP (int): gap penalty \n",
    "    \n",
    "        Returns:\n",
    "        - scoring_matrix (np.ndarray): matrix containing scores for each alignment\n",
    "        - direction_matrix (np.ndarray): directions for traceback ('d' for diagonal, 'u' for up, and 'l' for left)\n",
    "    \"\"\"\n",
    "    x = len(sequence1) + 1\n",
    "    y = len(sequence2) + 1\n",
    "    scoring_matrix = np.zeros((x, y), dtype=int)\n",
    "    direction_matrix = np.empty((x, y), dtype=object) \n",
    "\n",
    "    for i in range(1, x):\n",
    "        scoring_matrix[i][0] = scoring_matrix[i - 1][0] + GP\n",
    "        direction_matrix[i][0] = ['u']\n",
    "    for j in range(1, y):\n",
    "        scoring_matrix[0][j] = scoring_matrix[0][j - 1] + GP\n",
    "        direction_matrix[0][j] = ['l']\n",
    "\n",
    "    for i in range(1, x):\n",
    "        for j in range(1, y):\n",
    "            diag = scoring_matrix[i - 1][j - 1] + substitution_matrix[sequence1[i - 1]][sequence2[j - 1]]\n",
    "            up = scoring_matrix[i - 1][j] + GP\n",
    "            left = scoring_matrix[i][j - 1] + GP\n",
    "            \n",
    "            max_score = max(diag, up, left)\n",
    "            scoring_matrix[i][j] = max_score\n",
    "\n",
    "            directions = []\n",
    "            if diag == max_score:\n",
    "                directions.append(\"d\")\n",
    "            if up == max_score:\n",
    "                directions.append(\"u\")\n",
    "            if left == max_score:\n",
    "                directions.append(\"l\")\n",
    "            direction_matrix[i][j] = directions\n",
    "\n",
    "    return scoring_matrix, direction_matrix"
   ],
   "metadata": {
    "collapsed": false,
    "ExecuteTime": {
     "end_time": "2024-10-25T21:13:53.588169Z",
     "start_time": "2024-10-25T21:13:53.558183Z"
    }
   },
   "id": "8418779100dc8799"
  }
 ],
 "metadata": {
  "kernelspec": {
   "display_name": "Python 3",
   "language": "python",
   "name": "python3"
  },
  "language_info": {
   "codemirror_mode": {
    "name": "ipython",
    "version": 2
   },
   "file_extension": ".py",
   "mimetype": "text/x-python",
   "name": "python",
   "nbconvert_exporter": "python",
   "pygments_lexer": "ipython2",
   "version": "2.7.6"
  }
 },
 "nbformat": 4,
 "nbformat_minor": 5
}
