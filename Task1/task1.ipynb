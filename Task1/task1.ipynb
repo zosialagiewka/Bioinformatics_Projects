{
 "cells": [
  {
   "cell_type": "markdown",
   "source": [
    "# TASK 1 - Implementation of Sequence Alignment Algorithms\n",
    "Zofia Łągiewka 313096"
   ],
   "metadata": {
    "collapsed": false
   },
   "id": "c59458fa1c0bc507"
  },
  {
   "cell_type": "code",
   "execution_count": 10,
   "outputs": [],
   "source": [
    "from utils import load_matrix, fill_matrices, traceback, print_and_save_results\n",
    "import numpy as np"
   ],
   "metadata": {
    "collapsed": false,
    "ExecuteTime": {
     "end_time": "2024-10-26T11:50:04.496608Z",
     "start_time": "2024-10-26T11:50:04.353863Z"
    }
   },
   "id": "2576c985dda501d6"
  },
  {
   "cell_type": "markdown",
   "source": [
    "## Needleman-Wunsch - global alignment"
   ],
   "metadata": {
    "collapsed": false
   },
   "id": "6f2e358f6a8afd62"
  },
  {
   "cell_type": "code",
   "execution_count": 11,
   "outputs": [],
   "source": [
    "def needleman_wunsch(sequence1, sequence2, n, path, GP, output_filename):\n",
    "    \"\"\"\n",
    "    Performs the Needleman-Wunsch algorithm to find n global alignments\n",
    "\n",
    "    Parameters:\n",
    "    - sequence1 (str): first DNA sequence\n",
    "    - sequence2 (str): second DNA sequence\n",
    "    - n (int): maximum number of alignments\n",
    "    - path (str): filepath to the substitution matrix in CSV format\n",
    "    - GP (int): gap penalty\n",
    "    - output_filename (str): name of the output file\n",
    "    \"\"\"\n",
    "    substitution_matrix = load_matrix(path)\n",
    "    scoring_matrix, direction_matrix = fill_matrices(sequence1, sequence2, substitution_matrix, GP)\n",
    "    \n",
    "    alignments = []\n",
    "    traceback(sequence1, sequence2, direction_matrix, scoring_matrix, len(sequence1), len(sequence2), '', '', alignments, n)\n",
    "    \n",
    "    print_and_save_results(output_filename, alignments, \"Global\")    "
   ],
   "metadata": {
    "collapsed": false,
    "ExecuteTime": {
     "end_time": "2024-10-26T11:50:04.497434Z",
     "start_time": "2024-10-26T11:50:04.464401Z"
    }
   },
   "id": "19711193b836b322"
  },
  {
   "cell_type": "markdown",
   "source": [
    "### Example use"
   ],
   "metadata": {
    "collapsed": false
   },
   "id": "9ecedac39e5d5b1d"
  },
  {
   "cell_type": "code",
   "execution_count": 12,
   "outputs": [
    {
     "name": "stdout",
     "output_type": "stream",
     "text": [
      "Global alignment no. 1:\n",
      "-TATA\n",
      "ATAT-\n",
      "Score: 11\n",
      "\n",
      "Global alignment no. 2:\n",
      "TATA-\n",
      "-ATAT\n",
      "Score: 11\n"
     ]
    }
   ],
   "source": [
    "needleman_wunsch('TATA', 'ATAT', n=3, path='matrix.csv', GP=-2, output_filename='output_nw.txt')"
   ],
   "metadata": {
    "collapsed": false,
    "ExecuteTime": {
     "end_time": "2024-10-26T11:50:04.498931Z",
     "start_time": "2024-10-26T11:50:04.464545Z"
    }
   },
   "id": "1c88809d79df3763"
  },
  {
   "cell_type": "markdown",
   "source": [
    "## Smith-Waterman - local alignment"
   ],
   "metadata": {
    "collapsed": false
   },
   "id": "91ba77d4b25757f"
  },
  {
   "cell_type": "code",
   "execution_count": 13,
   "outputs": [],
   "source": [
    "def smith_waterman(sequence1, sequence2, n, path, GP, output_filename):\n",
    "    \"\"\"\n",
    "    Performs the Smith-Waterman algorithm to find n local alignments\n",
    "\n",
    "    Parameters:\n",
    "        - sequence1 (str): first DNA sequence\n",
    "        - sequence2 (str): second DNA sequence\n",
    "        - n (int): maximum number of alignments\n",
    "        - path (str): filepath to the substitution matrix in CSV format\n",
    "        - GP (int): gap penalty\n",
    "        - output_filename (str): name of the output file\n",
    "    \"\"\"\n",
    "    substitution_matrix = load_matrix(path)\n",
    "    scoring_matrix, direction_matrix = fill_matrices(sequence1, sequence2, substitution_matrix, GP, global_alignment=False)\n",
    "    \n",
    "    alignments = []\n",
    "    max_score = scoring_matrix.max()\n",
    "    for (i, j) in np.argwhere(scoring_matrix == max_score):\n",
    "        traceback(sequence1, sequence2, direction_matrix, scoring_matrix, i, j, '', '', alignments, n, global_alignment=False, start_position=(i, j))\n",
    "    \n",
    "    print_and_save_results(output_filename, alignments, \"Local\")"
   ],
   "metadata": {
    "collapsed": false,
    "ExecuteTime": {
     "end_time": "2024-10-26T11:50:04.499992Z",
     "start_time": "2024-10-26T11:50:04.472499Z"
    }
   },
   "id": "6061d0c265dfd07c"
  },
  {
   "cell_type": "markdown",
   "source": [
    "### Example use"
   ],
   "metadata": {
    "collapsed": false
   },
   "id": "7dd303f684ad78ca"
  },
  {
   "cell_type": "code",
   "execution_count": 14,
   "outputs": [
    {
     "name": "stdout",
     "output_type": "stream",
     "text": [
      "Local alignment no. 1:\n",
      "TAT\n",
      "TAT\n",
      "Score: 15\n",
      "\n",
      "Local alignment no. 2:\n",
      "ATA\n",
      "ATA\n",
      "Score: 15\n"
     ]
    }
   ],
   "source": [
    "smith_waterman('TATA', 'ATAT', n=3, path='matrix.csv', GP=-2, output_filename='output_sw.txt')"
   ],
   "metadata": {
    "collapsed": false,
    "ExecuteTime": {
     "end_time": "2024-10-26T11:50:04.511153Z",
     "start_time": "2024-10-26T11:50:04.477247Z"
    }
   },
   "id": "2f11bb5ee7e47c83"
  },
  {
   "cell_type": "code",
   "execution_count": 14,
   "outputs": [],
   "source": [],
   "metadata": {
    "collapsed": false,
    "ExecuteTime": {
     "end_time": "2024-10-26T11:50:04.511289Z",
     "start_time": "2024-10-26T11:50:04.482346Z"
    }
   },
   "id": "ec458f43f0fcf14d"
  }
 ],
 "metadata": {
  "kernelspec": {
   "display_name": "Python 3",
   "language": "python",
   "name": "python3"
  },
  "language_info": {
   "codemirror_mode": {
    "name": "ipython",
    "version": 2
   },
   "file_extension": ".py",
   "mimetype": "text/x-python",
   "name": "python",
   "nbconvert_exporter": "python",
   "pygments_lexer": "ipython2",
   "version": "2.7.6"
  }
 },
 "nbformat": 4,
 "nbformat_minor": 5
}
