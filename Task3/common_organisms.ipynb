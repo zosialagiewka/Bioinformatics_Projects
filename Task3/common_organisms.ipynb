{
 "cells": [
  {
   "cell_type": "code",
   "execution_count": 137,
   "outputs": [],
   "source": [
    "from itertools import combinations\n",
    "import os"
   ],
   "metadata": {
    "collapsed": false,
    "ExecuteTime": {
     "end_time": "2024-12-21T10:24:37.266377Z",
     "start_time": "2024-12-21T10:24:37.256115Z"
    }
   },
   "id": "4952b9f353e1ccdd"
  },
  {
   "cell_type": "code",
   "execution_count": 138,
   "outputs": [],
   "source": [
    "def parse_fasta(file_path):\n",
    "    organisms = set()\n",
    "    with open(file_path, 'r') as file:\n",
    "        for line in file:\n",
    "            if line.startswith(\">\"):\n",
    "                organism = line.split(\"[\")[-1].rstrip(\"]\\n\")\n",
    "                organisms.add(organism)\n",
    "    return organisms"
   ],
   "metadata": {
    "collapsed": false,
    "ExecuteTime": {
     "end_time": "2024-12-21T10:24:37.808253Z",
     "start_time": "2024-12-21T10:24:37.788439Z"
    }
   },
   "id": "67bbcea07b027ecf"
  },
  {
   "cell_type": "code",
   "execution_count": 139,
   "outputs": [],
   "source": [
    "def get_data(dir_):\n",
    "    file_organisms = {}\n",
    "    for file_name in os.listdir(dir_):\n",
    "        if file_name.endswith(\".txt\"):\n",
    "            organisms = parse_fasta(os.path.join(dir_, file_name))\n",
    "            file_organisms[file_name] = organisms\n",
    "    return file_organisms"
   ],
   "metadata": {
    "collapsed": false,
    "ExecuteTime": {
     "end_time": "2024-12-21T10:24:38.146758Z",
     "start_time": "2024-12-21T10:24:38.141428Z"
    }
   },
   "id": "d1b63f1a4942b102"
  },
  {
   "cell_type": "code",
   "execution_count": 154,
   "outputs": [],
   "source": [
    "def find_common_organisms_subset(files, min_common=6, files_wanted=8):\n",
    "    best_subset_ = []\n",
    "    best_common_organisms = set()\n",
    "\n",
    "    for sub_length in range(files_wanted, 1, -1):\n",
    "        for subset in combinations(list(files.keys()), sub_length):\n",
    "            common_organisms_ = set.intersection(*(files[file] for file in subset))\n",
    "\n",
    "            if len(common_organisms_) >= min_common:\n",
    "                if len(common_organisms_) > len(best_common_organisms):\n",
    "                    best_subset_ = subset\n",
    "                    best_common_organisms = common_organisms_\n",
    "                    break\n",
    "        if best_subset_:\n",
    "            break\n",
    "\n",
    "    return len(best_subset_), len(best_common_organisms), best_subset_, best_common_organisms"
   ],
   "metadata": {
    "collapsed": false,
    "ExecuteTime": {
     "end_time": "2024-12-21T10:33:58.450659Z",
     "start_time": "2024-12-21T10:33:58.439577Z"
    }
   },
   "id": "b7ae2284c1b5b71f"
  },
  {
   "cell_type": "code",
   "execution_count": 155,
   "outputs": [],
   "source": [
    "data = get_data(\"aa\")"
   ],
   "metadata": {
    "collapsed": false,
    "ExecuteTime": {
     "end_time": "2024-12-21T10:33:58.957374Z",
     "start_time": "2024-12-21T10:33:58.942876Z"
    }
   },
   "id": "107176c66f123863"
  },
  {
   "cell_type": "code",
   "execution_count": 156,
   "outputs": [],
   "source": [
    "subset_length, common_organisms_length, subset_files, common_organisms = find_common_organisms_subset(data)"
   ],
   "metadata": {
    "collapsed": false,
    "ExecuteTime": {
     "end_time": "2024-12-21T10:34:01.579614Z",
     "start_time": "2024-12-21T10:33:59.490986Z"
    }
   },
   "id": "b6929e19e675bc0c"
  },
  {
   "cell_type": "code",
   "execution_count": 157,
   "outputs": [
    {
     "name": "stdout",
     "output_type": "stream",
     "text": [
      "Subset length: 8\n",
      "Number of common organisms: 6\n"
     ]
    }
   ],
   "source": [
    "print(\"Subset length:\", subset_length)\n",
    "print(\"Number of common organisms:\", common_organisms_length)"
   ],
   "metadata": {
    "collapsed": false,
    "ExecuteTime": {
     "end_time": "2024-12-21T10:34:01.586826Z",
     "start_time": "2024-12-21T10:34:01.580923Z"
    }
   },
   "id": "6671bae720607804"
  },
  {
   "cell_type": "code",
   "execution_count": 159,
   "outputs": [
    {
     "name": "stdout",
     "output_type": "stream",
     "text": [
      "Subset files: ('cathepsin.txt', 'prothrombin.txt', 'thyroxine.txt', 'galectin.txt', 'lactase.txt', 'albumin.txt', 'collagen.txt', 'amylase.txt')\n"
     ]
    }
   ],
   "source": [
    "print(\"Subset files:\", subset_files)"
   ],
   "metadata": {
    "collapsed": false,
    "ExecuteTime": {
     "end_time": "2024-12-21T10:34:10.997141Z",
     "start_time": "2024-12-21T10:34:10.985456Z"
    }
   },
   "id": "6c560f066f7e3c49"
  },
  {
   "cell_type": "code",
   "execution_count": 164,
   "outputs": [
    {
     "name": "stdout",
     "output_type": "stream",
     "text": [
      "Common organisms: ['Chlorocebus sabaeus' 'Macaca fascicularis' 'Macaca mulatta'\n",
      " 'Papio anubis' 'Rhinopithecus roxellana' 'Trachypithecus francoisi']\n"
     ]
    }
   ],
   "source": [
    "import numpy as np\n",
    "print(\"Common organisms:\", np.sort(list(common_organisms)))"
   ],
   "metadata": {
    "collapsed": false,
    "ExecuteTime": {
     "end_time": "2024-12-21T10:50:48.671808Z",
     "start_time": "2024-12-21T10:50:48.663469Z"
    }
   },
   "id": "e07f77da0842d7ec"
  },
  {
   "cell_type": "markdown",
   "source": [
    "### Updating fasta file to include headers"
   ],
   "metadata": {
    "collapsed": false
   },
   "id": "eed2136c647949cf"
  },
  {
   "cell_type": "code",
   "execution_count": 221,
   "outputs": [],
   "source": [
    "input_fasta = \"data/db/combined_sequences.fasta\"\n",
    "output_fasta = \"combined_sequences.fasta\"\n",
    "\n",
    "with open(input_fasta, \"r\") as infile, open(output_fasta, \"w\") as outfile:\n",
    "        for line in infile:\n",
    "            if line.startswith(\">\"):\n",
    "                # Parse and clean up header\n",
    "                parts = line.strip().split(\" \", 1)\n",
    "                seq_id = parts[0]  # e.g., >XP_007997053.1\n",
    "                description = parts[1] if len(parts) > 1 else \"Unknown\"\n",
    "                if \"[\" in description and \"]\" in description:\n",
    "                    organism = description.split(\"[\")[1].split(\"]\")[0].replace(\" \", \"_\")\n",
    "                    protein = description.split(\"[\")[0].strip().replace(\" \", \"_\")\n",
    "                    corrected_header = f\"{seq_id}{protein}_{organism}\"\n",
    "                else:\n",
    "                    corrected_header = seq_id\n",
    "                outfile.write(corrected_header + \"\\n\")\n",
    "            else:\n",
    "                # Write sequence lines as-is\n",
    "                outfile.write(line)\n"
   ],
   "metadata": {
    "collapsed": false,
    "ExecuteTime": {
     "end_time": "2024-12-21T13:22:40.784629Z",
     "start_time": "2024-12-21T13:22:40.780102Z"
    }
   },
   "id": "348d23692ce97233"
  },
  {
   "cell_type": "code",
   "execution_count": null,
   "outputs": [],
   "source": [],
   "metadata": {
    "collapsed": false
   },
   "id": "e5daa46e43d6b29c"
  }
 ],
 "metadata": {
  "kernelspec": {
   "display_name": "Python 3",
   "language": "python",
   "name": "python3"
  },
  "language_info": {
   "codemirror_mode": {
    "name": "ipython",
    "version": 2
   },
   "file_extension": ".py",
   "mimetype": "text/x-python",
   "name": "python",
   "nbconvert_exporter": "python",
   "pygments_lexer": "ipython2",
   "version": "2.7.6"
  }
 },
 "nbformat": 4,
 "nbformat_minor": 5
}
